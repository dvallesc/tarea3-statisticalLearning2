{
 "cells": [
  {
   "cell_type": "markdown",
   "metadata": {},
   "source": [
    "#### Diego Fernando Valle Morales\n",
    "##### 20003022\n",
    "\n",
    "## Maldición Dimensionalidad"
   ]
  },
  {
   "cell_type": "code",
   "execution_count": 1,
   "metadata": {},
   "outputs": [],
   "source": [
    "import numpy as np \n",
    "import pandas as pd \n",
    "import random,math \n",
    "import matplotlib.pyplot as plt "
   ]
  },
  {
   "cell_type": "code",
   "execution_count": 2,
   "metadata": {},
   "outputs": [],
   "source": [
    "# Definiendo las dimensiones en rango entre 1 a 250 con intervalos de 5\n",
    "dimensiones = range(1, 251, 5)"
   ]
  },
  {
   "cell_type": "code",
   "execution_count": 4,
   "metadata": {},
   "outputs": [],
   "source": [
    "# Generando números aleatorios entre cero y uno de distribución uniforme con las dimensiones indicadas en parámetro\n",
    "def GeneraPuntoAleatorio(dimension): \n",
    "     return [random.random() for _ in range(dimension)] \n",
    "\n",
    "# Suma media cuadrada de los cuadrados en la distancia euclidiana (norma L2) entre dos puntos\n",
    "def Distancia(a,b): \n",
    "     diff = [a_i-b_i for a_i,b_i in zip(a,b)] \n",
    "     sumaCuadrados = sum(a_i**2 for a_i in diff) \n",
    "     return math.sqrt(sumaCuadrados) \n",
    "\n",
    "# Calculando las distancias\n",
    "def ComparacionDistanciasAleatorias(dimension,number_pairs): \n",
    "     return [Distancia(GeneraPuntoAleatorio(dimension),GeneraPuntoAleatorio(dimension)) \n",
    "            for _ in range(number_pairs)] \n",
    "    \n",
    "def Media(x): \n",
    "     return sum(x) / len(x)"
   ]
  },
  {
   "cell_type": "code",
   "execution_count": 9,
   "metadata": {},
   "outputs": [
    {
     "name": "stdout",
     "output_type": "stream",
     "text": [
      "DIMENSIONES ->  DISTANCIA MEDIA\n",
      "1  ->   0.33705782247773863\n",
      "6  ->   0.9555827669677994\n",
      "11  ->   1.3283569564425892\n",
      "16  ->   1.6075651207915138\n",
      "21  ->   1.8588093639961025\n",
      "26  ->   2.0712658203341374\n",
      "31  ->   2.2478814863456607\n",
      "36  ->   2.438346737952669\n",
      "41  ->   2.6071696867565506\n",
      "46  ->   2.758042322066704\n",
      "51  ->   2.909195764344551\n",
      "56  ->   3.035673856099111\n",
      "61  ->   3.168929860617719\n",
      "66  ->   3.309524815130884\n",
      "71  ->   3.4261426494427782\n",
      "76  ->   3.5656649810808254\n",
      "81  ->   3.6682499564648303\n",
      "86  ->   3.782780935063196\n",
      "91  ->   3.8879368400360628\n",
      "96  ->   3.9961926767657534\n",
      "101  ->   4.097507214555396\n",
      "106  ->   4.18317981822568\n",
      "111  ->   4.300778279171848\n",
      "116  ->   4.4054849410364465\n",
      "121  ->   4.490776057607807\n",
      "126  ->   4.586834738064009\n",
      "131  ->   4.66407564322312\n",
      "136  ->   4.743885097542324\n",
      "141  ->   4.834111690362107\n",
      "146  ->   4.922061272699692\n",
      "151  ->   5.0034359691705435\n",
      "156  ->   5.084898571400418\n",
      "161  ->   5.181988775378998\n",
      "166  ->   5.253448234171819\n",
      "171  ->   5.326738543884114\n",
      "176  ->   5.4092212418529195\n",
      "181  ->   5.482072894775443\n",
      "186  ->   5.558007751629263\n",
      "191  ->   5.636164238893321\n",
      "196  ->   5.688360762686685\n",
      "201  ->   5.794919224673021\n",
      "206  ->   5.849750900898718\n",
      "211  ->   5.922722452202424\n",
      "216  ->   5.986388605791791\n",
      "221  ->   6.065148033369395\n",
      "226  ->   6.134357603927983\n",
      "231  ->   6.2035099326199665\n",
      "236  ->   6.262081266443743\n",
      "241  ->   6.335346492239299\n",
      "246  ->   6.388510778407003\n"
     ]
    }
   ],
   "source": [
    "distanciasPromedio = [] \n",
    "\n",
    "dummy = np.empty((20,2)) \n",
    "dist = pd.DataFrame(dummy) \n",
    "dist.columns = [\"Dimension\",\"DistanciaPromedio\"] \n",
    " \n",
    "random.seed(32) \n",
    "i = 0 \n",
    "print(\"DIMENSIONES ->  DISTANCIA MEDIA\")\n",
    "for dims in dimensiones: \n",
    "    distancias = ComparacionDistanciasAleatorias(dims, 1000)   \n",
    "    distanciasPromedio.append(Media(distancias))     \n",
    "     \n",
    "    dist.loc[i,\"Dimension\"] = dims \n",
    "    dist.loc[i,\"DistanciaPromedio\"] = Media(distancias) \n",
    "           \n",
    "    print(dims,\" ->  \",Media(distancias))\n",
    "    i = i+1"
   ]
  },
  {
   "cell_type": "code",
   "execution_count": 10,
   "metadata": {},
   "outputs": [
    {
     "name": "stderr",
     "output_type": "stream",
     "text": [
      "No handles with labels found to put in legend.\n"
     ]
    },
    {
     "data": {
      "image/png": "[encoded data removed]",
      "text/plain": [
       "<Figure size 432x288 with 1 Axes>"
      ]
     },
     "metadata": {
      "needs_background": "light"
     },
     "output_type": "display_data"
    }
   ],
   "source": [
    "plt.plot(dist[\"Dimension\"],dist[\"DistanciaPromedio\"])\n",
    "plt.title(\"Distancia promedio con número de dimensiones para 1000 observaciones\")\n",
    "plt.xlabel('Dimensiones') \n",
    "plt.ylabel('Distancia Promedio') \n",
    "plt.legend(loc='best') \n",
    "plt.show();"
   ]
  },
  {
   "cell_type": "markdown",
   "metadata": {},
   "source": [
    "### Conclusión\n",
    "Se puede observar que cuando se aumenta el número de dimensiones se incrementa la distancia promedio siguiendo una tendencia logaritmíca, por lo que se confirma que a mayor dimensionalidad, se requiere un conjunto de datos mayor para superar este inconveniente."
   ]
  }
 ],
 "metadata": {
  "kernelspec": {
   "display_name": "Python 3",
   "language": "python",
   "name": "python3"
  },
  "language_info": {
   "codemirror_mode": {
    "name": "ipython",
    "version": 3
   },
   "file_extension": ".py",
   "mimetype": "text/x-python",
   "name": "python",
   "nbconvert_exporter": "python",
   "pygments_lexer": "ipython3",
   "version": "3.7.4"
  }
 },
 "nbformat": 4,
 "nbformat_minor": 2
}
